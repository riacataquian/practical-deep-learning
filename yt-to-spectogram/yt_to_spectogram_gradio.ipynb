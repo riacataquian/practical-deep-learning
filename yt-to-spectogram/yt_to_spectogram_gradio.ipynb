{
  "nbformat": 4,
  "nbformat_minor": 0,
  "metadata": {
    "colab": {
      "provenance": [],
      "gpuType": "T4"
    },
    "kernelspec": {
      "name": "python3",
      "display_name": "Python 3"
    },
    "language_info": {
      "name": "python"
    },
    "accelerator": "GPU"
  },
  "cells": [
    {
      "cell_type": "code",
      "source": [
        "!pip install gradio fastbook moviepy librosa matplotlib yt-dlp"
      ],
      "metadata": {
        "collapsed": true,
        "id": "8Wp0IUVmZY2v"
      },
      "execution_count": null,
      "outputs": []
    },
    {
      "cell_type": "code",
      "source": [
        "import fastbook\n",
        "fastbook.setup_book()"
      ],
      "metadata": {
        "id": "paYwxNPMy_Pg"
      },
      "execution_count": null,
      "outputs": []
    },
    {
      "cell_type": "code",
      "source": [
        "from pathlib import Path\n",
        "from fastai.vision.all import *\n",
        "\n",
        "path = Path()\n",
        "path.ls(file_exts='.pkl')\n",
        "\n",
        "learn_inf = load_learner(path/'export.pkl')"
      ],
      "metadata": {
        "id": "fqFaEVbBxLCk"
      },
      "execution_count": null,
      "outputs": []
    },
    {
      "cell_type": "code",
      "source": [
        "import subprocess\n",
        "\n",
        "def download_audio(youtube_url, dest):\n",
        "    dest=Path(dest)\n",
        "    dest.mkdir(exist_ok=True, parents=True)\n",
        "\n",
        "    output_template = str(dest / \"%(title)s.%(ext)s\")\n",
        "\n",
        "    try:\n",
        "      # download audio in best format (usually m4a)\n",
        "      command = [\n",
        "          \"yt-dlp\",\n",
        "          \"-f\", \"bestaudio\",\n",
        "          \"-o\", output_template,\n",
        "          \"--print\", \"after_move:filepath\",\n",
        "          youtube_url\n",
        "      ]\n",
        "      result=subprocess.run(command, capture_output=True, text=True, check=True, encoding=\"utf-8\")\n",
        "      return Path(result.stdout).stem.strip()\n",
        "    except subprocess.CalledProcessError as e:\n",
        "      print(\"yt-dlp failed:\\n\", e.stderr if e.stderr else str(e))"
      ],
      "metadata": {
        "id": "Vmw-U-IrygLB"
      },
      "execution_count": null,
      "outputs": []
    },
    {
      "cell_type": "code",
      "source": [
        "import moviepy as mp\n",
        "import librosa, librosa.display\n",
        "import matplotlib.pyplot as plt\n",
        "import numpy as np\n",
        "from pathlib import Path\n",
        "\n",
        "def audio_to_spectogram(source, dest):\n",
        "  dest.mkdir(exist_ok=True, parents=True)\n",
        "\n",
        "  wavdest=Path(dest/\"wav\")\n",
        "  wavdest.mkdir(exist_ok=True, parents=True)\n",
        "\n",
        "  sdest=Path(dest/\"sgrams\")\n",
        "  sdest.mkdir(exist_ok=True, parents=True)\n",
        "\n",
        "  for audio in source.iterdir():\n",
        "    if audio.is_file():\n",
        "      print(f\"processing: {audio.name}\")\n",
        "\n",
        "      base_name = audio.stem\n",
        "      audio_path = wavdest / f\"{base_name}.wav\"\n",
        "\n",
        "      try:\n",
        "          clip = mp.VideoFileClip(str(audio))\n",
        "          clip.audio.write_audiofile(str(audio_path), verbose=False, logger=None)\n",
        "          clip.close()\n",
        "\n",
        "      except Exception as e:\n",
        "          print(f\"skipping video processing for {audio.name}: {e}\")\n",
        "          try:\n",
        "              # use ffmpeg directly to convert to wav if moviepy failed\n",
        "              command = [\"ffmpeg\", \"-i\", str(audio), str(audio_path)]\n",
        "              subprocess.run(command, check=True, capture_output=True)\n",
        "          except subprocess.CalledProcessError as sub_e:\n",
        "              print(f\"could not convert {audio.name} to .wav using ffmpeg: {sub_e.stderr.decode()}\")\n",
        "              continue\n",
        "\n",
        "      # create spectrogram\n",
        "      try:\n",
        "          y, sr = librosa.load(str(audio_path))\n",
        "          S = librosa.feature.melspectrogram(y=y, sr=sr)\n",
        "          S_dB = librosa.power_to_db(S, ref=np.max)\n",
        "\n",
        "          out_img = sdest / f\"{base_name}.png\"\n",
        "          plt.figure(figsize=(10, 4))\n",
        "          librosa.display.specshow(S_dB, sr=sr, x_axis='time', y_axis='mel')\n",
        "          plt.axis('off')\n",
        "          plt.tight_layout()\n",
        "          plt.savefig(out_img, bbox_inches='tight', pad_inches=0)\n",
        "          plt.close()\n",
        "          print(f\"generated spectogram: {out_img}\")\n",
        "      except Exception as e:\n",
        "          print(f\"could not generate spectrogram for {audio_path.name}: {e}\")"
      ],
      "metadata": {
        "id": "tahBDH3dylD5"
      },
      "execution_count": null,
      "outputs": []
    },
    {
      "cell_type": "code",
      "source": [
        "learn_inf = load_learner(path/'export.pkl')\n",
        "\n",
        "uploads_path = Path()\n",
        "uploads_path.mkdir(exist_ok=True, parents=True)\n",
        "\n",
        "def process_yt_url(u):\n",
        "  title=download_audio(u, dest=\"audio\")\n",
        "  audio_to_spectogram(uploads_path/\"audio\", dest=uploads_path)\n",
        "  print(f\"processed {title}\")\n",
        "\n",
        "  predicted_labels=predict_labels(uploads_path/f\"sgrams/{title}.png\")\n",
        "  return title, predicted_labels\n",
        "\n",
        "def predict_labels(image_path):\n",
        "    pred_class, pred_idx, probs = learn_inf.predict(image_path)\n",
        "    top3_idx = probs.argsort(descending=True)[:3]\n",
        "    labels = [learn_inf.dls.vocab[i] for i, p in enumerate(top3_idx) if p > 0.5]\n",
        "    return \" \".join(labels)"
      ],
      "metadata": {
        "id": "xsC_PIKwYaS6"
      },
      "execution_count": null,
      "outputs": []
    },
    {
      "cell_type": "code",
      "source": [
        "import gradio as gr\n",
        "\n",
        "iface = gr.Interface(\n",
        "    fn=process_yt_url,\n",
        "    inputs=gr.Textbox(label=\"Paste YouTube URL here\"),\n",
        "    outputs=[\n",
        "        gr.Text(label=\"Title\"),\n",
        "        gr.Text(label=\"Predicted Labels\")\n",
        "    ],\n",
        "    title=\"YouTube to Spectogram Genre Inference\",\n",
        "    description=\"Paste a YouTube link\"\n",
        ")\n",
        "\n",
        "iface.launch(share=True)"
      ],
      "metadata": {
        "id": "LL-rn-tc0ACQ"
      },
      "execution_count": null,
      "outputs": []
    }
  ]
}